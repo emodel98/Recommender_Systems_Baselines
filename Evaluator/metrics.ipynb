{
 "cells": [
  {
   "cell_type": "code",
   "execution_count": null,
   "id": "1a548538",
   "metadata": {},
   "outputs": [],
   "source": [
    "import numpy as np\n",
    "import scipy.sparse as sps\n",
    "\n",
    "def AUROC(is_relevant):\n",
    "    ranks = np.arange(len(is_relevant))\n",
    "    pos_ranks = ranks[is_relevant]\n",
    "    neg_ranks = ranks[~is_relevant]\n",
    "    auc_score = 0.0\n",
    "    \n",
    "    if len(neg_ranks) == 0:\n",
    "        return 1.0\n",
    "    if len(pos_ranks) > 0:\n",
    "        for pos_pred in pos_ranks:\n",
    "            auc_score += np.sum(pos_pred < neg_ranks, dtype=np.float32)\n",
    "        auc_score /= (pos_ranks.shape[0] * neg_ranks.shape[0])\n",
    "        \n",
    "    assert 0 <= auc_score <= 1, auc_score\n",
    "    return auc_score\n",
    "\n",
    "\n",
    "def ndcg(ranked_list, pos_items, relevance=None, at=None):\n",
    "\n",
    "    if relevance is None:\n",
    "        relevance = np.ones_like(pos_items)\n",
    "    assert len(relevance) == pos_items.shape[0]\n",
    "\n",
    "    # Create a dictionary associating item_id to its relevance\n",
    "    # it2rel[item] -> relevance[item]\n",
    "    it2rel = {it: r for it, r in zip(pos_items, relevance)}\n",
    "\n",
    "    # Creates array of length \"at\" with the relevance associated to the item in that position\n",
    "    rank_scores = np.asarray([it2rel.get(it, 0.0) for it in ranked_list[:at]], dtype=np.float32)\n",
    "\n",
    "    # IDCG has all relevances to 1, up to the number of items in the test set\n",
    "    ideal_dcg = dcg(np.sort(relevance)[::-1])\n",
    "\n",
    "    # DCG uses the relevance of the recommended items\n",
    "    rank_dcg = dcg(rank_scores)\n",
    "\n",
    "    if rank_dcg == 0.0:\n",
    "        return 0.0\n",
    "\n",
    "    ndcg_ = rank_dcg / ideal_dcg\n",
    "\n",
    "    return ndcg_"
   ]
  }
 ],
 "metadata": {
  "kernelspec": {
   "display_name": "py37env",
   "language": "python",
   "name": "dlevaluation"
  },
  "language_info": {
   "codemirror_mode": {
    "name": "ipython",
    "version": 3
   },
   "file_extension": ".py",
   "mimetype": "text/x-python",
   "name": "python",
   "nbconvert_exporter": "python",
   "pygments_lexer": "ipython3",
   "version": "3.8.5"
  }
 },
 "nbformat": 4,
 "nbformat_minor": 5
}
